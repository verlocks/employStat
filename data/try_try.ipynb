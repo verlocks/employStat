{
 "cells": [
  {
   "cell_type": "code",
   "execution_count": 41,
   "id": "b723bf02",
   "metadata": {},
   "outputs": [],
   "source": [
    "import numpy as np\n",
    "import pandas as pd\n",
    "import matplotlib.pyplot as plt\n",
    "import seaborn as sns"
   ]
  },
  {
   "cell_type": "code",
   "execution_count": 45,
   "id": "92cf2d68",
   "metadata": {},
   "outputs": [],
   "source": [
    "df=pd.read_excel('question_01/occupation_sex_race/detailed/2016.xlsx')\n",
    "    #since these files have the same pattern for headers, we would deal with all of them\n",
    "if df.shape[1]==6:\n",
    "    headers = ['Occupation','Total Employed','Percent of total employed_women',\n",
    "               'Percent of total employed_Black or African American','Percent of total employed_Asian',\n",
    "               'Percent of total employed_Hispanic or Latino']\n",
    "if df.shape[1]==7:\n",
    "    headers = ['Occupation','Total Employed','Percent of total employed_women','Percent of total employed_White',\n",
    "               'Percent of total employed_Black or African American','Percent of total employed_Asian',\n",
    "               'Percent of total employed_Hispanic or Latino']\n",
    "df.columns=headers\n",
    "    #df['Group']= 'novalue'\n",
    "mm=pd.read_excel('question_01/occupation_sex_race/detailed/2016.xlsx')\n",
    "pattern=mm.iloc[574,2]\n",
    "    \n",
    "    #Since the table includes the summary and below are the embranchments\n",
    "    #To make further analysis easier, set anaother columns for the groups\n",
    "    #Since summing up the embranchments would be the summary, we would set NA for the summary row in order \n",
    "    #to clean them in the furture\n",
    "gnp=[12,43,73,90,112,136,145,151,163,183,219,231,250,264,271,294,313,368,378,419,459,541]\n",
    "    #assign the group info to each rows\n",
    "for i in range(12,42):\n",
    "    df.loc[i,'Group']=df.iloc[gnp[0]-1,0]\n",
    "for i in range(43,71):\n",
    "    df.loc[i,'Group']=df.iloc[gnp[1]-1,0]\n",
    "for i in range(73,89):\n",
    "    df.loc[i,'Group']=df.iloc[gnp[2]-1,0]\n",
    "for i in range(90,111):\n",
    "    df.loc[i,'Group']=df.iloc[gnp[3]-1,0]\n",
    "for i in range(112,135):\n",
    "    df.loc[i,'Group']=df.iloc[gnp[4]-1,0]\n",
    "for i in range(136,144):\n",
    "    df.loc[i,'Group']=df.iloc[gnp[5]-1,0]\n",
    "for i in range(145,150):\n",
    "    df.loc[i,'Group']=df.iloc[gnp[6]-1,0]\n",
    "for i in range(151,162):\n",
    "    df.loc[i,'Group']=df.iloc[gnp[7]-1,0]\n",
    "for i in range(163,182):\n",
    "    df.loc[i,'Group']=df.iloc[gnp[8]-1,0]\n",
    "for i in range(183,216):\n",
    "    df.loc[i,'Group']=df.iloc[gnp[9]-1,0]\n",
    "for i in range(219,230):\n",
    "    df.loc[i,'Group']=df.iloc[gnp[10]-1,0]\n",
    "for i in range(231,249):\n",
    "    df.loc[i,'Group']=df.iloc[gnp[11]-1,0]\n",
    "for i in range(250,263):\n",
    "    df.loc[i,'Group']=df.iloc[gnp[12]-1,0]\n",
    "for i in range(264,270):\n",
    "    df.loc[i,'Group']=df.iloc[gnp[13]-1,0]\n",
    "for i in range(271,291):\n",
    "    df.loc[i,'Group']=df.iloc[gnp[14]-1,0]\n",
    "for i in range(294,312):\n",
    "    df.loc[i,'Group']=df.iloc[gnp[15]-1,0]\n",
    "for i in range(313,365):\n",
    "    df.loc[i,'Group']=df.iloc[gnp[16]-1,0]\n",
    "for i in range(368,377):\n",
    "    df.loc[i,'Group']=df.iloc[gnp[17]-1,0]\n",
    "for i in range(378,418):\n",
    "    df.loc[i,'Group']=df.iloc[gnp[18]-1,0]\n",
    "for i in range(419,456):\n",
    "    df.loc[i,'Group']=df.iloc[gnp[19]-1,0]\n",
    "for i in range(459,540):\n",
    "    df.loc[i,'Group']=df.iloc[gnp[20]-1,0]\n",
    "for i in range(541,577):\n",
    "    df.loc[i,'Group']=df.iloc[gnp[21]-1,0]\n",
    "        \n",
    "    #Besides, since these files contain NaN values for some rows, after looking through the data, we could not fill\n",
    "    #the NaN values with other values since the race options are mostly White, Black or Africa American, Asian and Hispanic or Latino\n",
    "    #It's impossible for many industries have none of them\n",
    "    #Thus, these are very likely unrecorded and drop these rows would be apporiate\n",
    "    \n",
    "df = df.dropna()\n",
    "for i in headers:\n",
    "    df.drop(df.index[df[i]==pattern],inplace=True)\n",
    "#df.drop(df.index[df['Percent of total employed_women']==pattern],inplace=True)\n",
    "\n",
    "    \n",
    "    #Since we care about the detailed information, for those which has '-' in the row\n",
    "    #Drop those rows would be more appriate since it is useless for analysis\n",
    "# indices=[]\n",
    "# for i in range(0,df.shape[0]):\n",
    "#     for m in range(0,df.iloc[i].size):\n",
    "#         if df.iloc[i,m]==pattern:\n",
    "#             df = df.drop(i)\n",
    "\n",
    "\n",
    "    \n",
    "# if df.isna().sum().sum()==0:\n",
    "#     df.to_excel('clean_data/question_01/occupation_sex_race/detailed/2016.xlsx',index=False)"
   ]
  },
  {
   "cell_type": "code",
   "execution_count": 17,
   "id": "fae01866",
   "metadata": {},
   "outputs": [
    {
     "name": "stdout",
     "output_type": "stream",
     "text": [
      "–\n"
     ]
    }
   ],
   "source": [
    "print(df.iloc[529,2])"
   ]
  },
  {
   "cell_type": "code",
   "execution_count": 21,
   "id": "a0f6c9bb",
   "metadata": {},
   "outputs": [],
   "source": [
    "mm=pd.read_excel('question_01/occupation_sex_race/detailed/2016.xlsx')\n",
    "pattern=mm.iloc[574,2]"
   ]
  },
  {
   "cell_type": "code",
   "execution_count": 22,
   "id": "af29fe16",
   "metadata": {},
   "outputs": [
    {
     "data": {
      "text/plain": [
       "True"
      ]
     },
     "execution_count": 22,
     "metadata": {},
     "output_type": "execute_result"
    }
   ],
   "source": [
    "df.iloc[529,2]==pattern"
   ]
  },
  {
   "cell_type": "code",
   "execution_count": 18,
   "id": "8bbd0bc7",
   "metadata": {},
   "outputs": [
    {
     "name": "stdout",
     "output_type": "stream",
     "text": [
      "56.5\n"
     ]
    }
   ],
   "source": [
    "print(pattern)"
   ]
  }
 ],
 "metadata": {
  "kernelspec": {
   "display_name": "Python 3",
   "language": "python",
   "name": "python3"
  },
  "language_info": {
   "codemirror_mode": {
    "name": "ipython",
    "version": 3
   },
   "file_extension": ".py",
   "mimetype": "text/x-python",
   "name": "python",
   "nbconvert_exporter": "python",
   "pygments_lexer": "ipython3",
   "version": "3.8.8"
  }
 },
 "nbformat": 4,
 "nbformat_minor": 5
}

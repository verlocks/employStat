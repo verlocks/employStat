{
 "cells": [
  {
   "cell_type": "code",
   "execution_count": 1,
   "id": "11f837f9",
   "metadata": {},
   "outputs": [],
   "source": [
    "import numpy as np\n",
    "import pandas as pd"
   ]
  },
  {
   "cell_type": "markdown",
   "id": "735315ee",
   "metadata": {},
   "source": [
    "# Question 1"
   ]
  },
  {
   "cell_type": "markdown",
   "id": "a80ec596",
   "metadata": {},
   "source": [
    "## Overall Workforce Change"
   ]
  },
  {
   "cell_type": "code",
   "execution_count": 2,
   "id": "febf4f37",
   "metadata": {},
   "outputs": [],
   "source": [
    "df = pd.read_excel('overall_workforce_change.xlsx',\n",
    "                  header=None)\n",
    "headers = ['Year','Civilian noninstitutional population','Civilian labor force_Total','Civilian labor force_Percent of population',\n",
    "          'Civilian labor force_Employed_Total','Civilian labor force_Employed_Percent of population','Civilian labor force_Employed_Agriculture',\n",
    "          'Civilian labor force_Emloyed_Nonagriculture','Civilian labor force_Unemployed_Number','Civilian labor force_Unemployed_Percent of labor force',\n",
    "          'Not in labor force']\n",
    "df.columns=headers"
   ]
  },
  {
   "cell_type": "code",
   "execution_count": 3,
   "id": "e32e21ed",
   "metadata": {},
   "outputs": [],
   "source": [
    "#Since the NaN is caused by the format of formal excel, drop the NaN would be appropriate\n",
    "df=df.dropna()"
   ]
  },
  {
   "cell_type": "code",
   "execution_count": 4,
   "id": "9627c32b",
   "metadata": {},
   "outputs": [
    {
     "data": {
      "text/plain": [
       "0"
      ]
     },
     "execution_count": 4,
     "metadata": {},
     "output_type": "execute_result"
    }
   ],
   "source": [
    "df.isna().sum().sum()"
   ]
  },
  {
   "cell_type": "code",
   "execution_count": 5,
   "id": "3ba91ad9",
   "metadata": {},
   "outputs": [],
   "source": [
    "df.to_excel('clean_data/overall_workforce_change.xlsx',\n",
    "           index=False)"
   ]
  },
  {
   "cell_type": "markdown",
   "id": "29b5f402",
   "metadata": {},
   "source": [
    "## Men_vs_Women_over_20_years"
   ]
  },
  {
   "cell_type": "code",
   "execution_count": 6,
   "id": "070fb69f",
   "metadata": {},
   "outputs": [],
   "source": [
    "df = pd.read_excel('question_01/men_vs_women_over20years.xlsx',\n",
    "                  header=None)"
   ]
  },
  {
   "cell_type": "code",
   "execution_count": 7,
   "id": "bfe235cd",
   "metadata": {},
   "outputs": [],
   "source": [
    "headers = ['Year','Civilian_noninstitutional_population','Civilian_labor_force_Total','Civilian_labor_force_Percent_of_population',\n",
    "          'Civilian_labor_force_Employed_Total','Civilian_labor_force_Employed_Percent_of_population','Civilian_labor_force_Employed_Agriculture',\n",
    "          'Civilian_labor_force_Employed_Nonagricultural_industries','Civilian_labor_force_Unemployed_Number','Civilian_labor_force_Unemployed_Percent_of_labor_force','Not_in_labor_force']"
   ]
  },
  {
   "cell_type": "code",
   "execution_count": 8,
   "id": "43a09ab0",
   "metadata": {},
   "outputs": [],
   "source": [
    "df.columns=headers"
   ]
  },
  {
   "cell_type": "code",
   "execution_count": 9,
   "id": "e80ec5ee",
   "metadata": {},
   "outputs": [],
   "source": [
    "df.loc[8:49,'Group']='Men'\n",
    "df.loc[51:92,'Group']='Women'"
   ]
  },
  {
   "cell_type": "code",
   "execution_count": 10,
   "id": "1d9e5b08",
   "metadata": {},
   "outputs": [],
   "source": [
    "df=df.dropna()"
   ]
  },
  {
   "cell_type": "code",
   "execution_count": 11,
   "id": "43c43fcf",
   "metadata": {},
   "outputs": [],
   "source": [
    "if df.isna().sum().sum()==0:\n",
    "    df.to_excel('clean_data/question_01/men_vs_women_over_20_years.xlsx',index=False)"
   ]
  },
  {
   "cell_type": "markdown",
   "id": "f4f20db8",
   "metadata": {},
   "source": [
    "## occupation_sex_race detailed"
   ]
  },
  {
   "cell_type": "code",
   "execution_count": 12,
   "id": "219c44ae",
   "metadata": {},
   "outputs": [],
   "source": [
    "#define the function here to do the reproducible data cleaning since these files have the same pattern\n",
    "def occupation_sex_race_detailed(yy):\n",
    "    df=pd.read_excel('question_01/occupation_sex_race/detailed/'+str(yy)+'.xlsx')\n",
    "    #since these files have the same pattern for headers, we would deal with all of them\n",
    "    if df.shape[1]==6:\n",
    "        headers = ['Occupation','Total Employed','Percent of total employed_women',\n",
    "               'Percent of total employed_Black or African American','Percent of total employed_Asian',\n",
    "               'Percent of total employed_Hispanic or Latino']\n",
    "    if df.shape[1]==7:\n",
    "        headers = ['Occupation','Total Employed','Percent of total employed_women','Percent of total employed_White',\n",
    "               'Percent of total employed_Black or African American','Percent of total employed_Asian',\n",
    "               'Percent of total employed_Hispanic or Latino']\n",
    "    df.columns=headers\n",
    "    \n",
    "    #The pattern is the values for missing in these files\n",
    "    mm=pd.read_excel('question_01/occupation_sex_race/detailed/2016.xlsx')\n",
    "    pattern=mm.iloc[574,2]\n",
    "    \n",
    "    #Since the table includes the summary and below are the embranchments\n",
    "    #To make further analysis easier, set anaother columns for the groups\n",
    "    #Since summing up the embranchments would be the summary, we would set NA for the summary row in order \n",
    "    #to clean them in the furture\n",
    "    gnp=[12,43,73,90,112,136,145,151,163,183,219,231,250,264,271,294,313,368,378,419,459,541]\n",
    "    #assign the group info to each rows\n",
    "    for i in range(12,42):\n",
    "        df.loc[i,'Group']=df.iloc[gnp[0]-1,0]\n",
    "    for i in range(43,71):\n",
    "        df.loc[i,'Group']=df.iloc[gnp[1]-1,0]\n",
    "    for i in range(73,89):\n",
    "        df.loc[i,'Group']=df.iloc[gnp[2]-1,0]\n",
    "    for i in range(90,111):\n",
    "        df.loc[i,'Group']=df.iloc[gnp[3]-1,0]\n",
    "    for i in range(112,135):\n",
    "        df.loc[i,'Group']=df.iloc[gnp[4]-1,0]\n",
    "    for i in range(136,144):\n",
    "        df.loc[i,'Group']=df.iloc[gnp[5]-1,0]\n",
    "    for i in range(145,150):\n",
    "        df.loc[i,'Group']=df.iloc[gnp[6]-1,0]\n",
    "    for i in range(151,162):\n",
    "        df.loc[i,'Group']=df.iloc[gnp[7]-1,0]\n",
    "    for i in range(163,182):\n",
    "        df.loc[i,'Group']=df.iloc[gnp[8]-1,0]\n",
    "    for i in range(183,216):\n",
    "        df.loc[i,'Group']=df.iloc[gnp[9]-1,0]\n",
    "    for i in range(219,230):\n",
    "        df.loc[i,'Group']=df.iloc[gnp[10]-1,0]\n",
    "    for i in range(231,249):\n",
    "        df.loc[i,'Group']=df.iloc[gnp[11]-1,0]\n",
    "    for i in range(250,263):\n",
    "        df.loc[i,'Group']=df.iloc[gnp[12]-1,0]\n",
    "    for i in range(264,270):\n",
    "        df.loc[i,'Group']=df.iloc[gnp[13]-1,0]\n",
    "    for i in range(271,291):\n",
    "        df.loc[i,'Group']=df.iloc[gnp[14]-1,0]\n",
    "    for i in range(294,312):\n",
    "        df.loc[i,'Group']=df.iloc[gnp[15]-1,0]\n",
    "    for i in range(313,365):\n",
    "        df.loc[i,'Group']=df.iloc[gnp[16]-1,0]\n",
    "    for i in range(368,377):\n",
    "        df.loc[i,'Group']=df.iloc[gnp[17]-1,0]\n",
    "    for i in range(378,418):\n",
    "        df.loc[i,'Group']=df.iloc[gnp[18]-1,0]\n",
    "    for i in range(419,456):\n",
    "        df.loc[i,'Group']=df.iloc[gnp[19]-1,0]\n",
    "    for i in range(459,540):\n",
    "        df.loc[i,'Group']=df.iloc[gnp[20]-1,0]\n",
    "    for i in range(541,577):\n",
    "        df.loc[i,'Group']=df.iloc[gnp[21]-1,0]\n",
    "        \n",
    "    #Besides, since these files contain NaN values for some rows, after looking through the data, we could not fill\n",
    "    #the NaN values with other values since the race options are mostly White, Black or Africa American, Asian and Hispanic or Latino\n",
    "    #It's impossible for many industries have none of them\n",
    "    #Thus, these are very likely unrecorded and drop these rows would be apporiate\n",
    "    \n",
    "    #Drop the missing values in the title\n",
    "    df = df.dropna()\n",
    "    \n",
    "    #For the actual missing values, move to the missing part for analyzing the missing patterns\n",
    "    df.to_excel('missing_data/question_01/occupation_sex_race/detailed/'+str(yy)+'.xlsx',index=False)\n",
    "    \n",
    "    \n",
    "    #Since we care about the detailed information, for those which has '-' in the row\n",
    "    #Drop those rows would be more appriate since it is useless for analysis\n",
    "    for i in headers:\n",
    "        df.drop(df.index[df[i]==pattern],inplace=True)\n",
    "    \n",
    "    \n",
    "    #test if all has been cleaned\n",
    "    if df.isna().sum().sum()==0:\n",
    "        df.to_excel('clean_data/question_01/occupation_sex_race/detailed/'+str(yy)+'.xlsx',index=False)"
   ]
  },
  {
   "cell_type": "code",
   "execution_count": 13,
   "id": "a4f067c3",
   "metadata": {},
   "outputs": [],
   "source": [
    "year = ['2016','2017','2018','2019','2020']\n",
    "for i in year:\n",
    "    occupation_sex_race_detailed(i)"
   ]
  },
  {
   "cell_type": "markdown",
   "id": "430e92c7",
   "metadata": {},
   "source": [
    "## occupation_sex_race/ Percentage"
   ]
  },
  {
   "cell_type": "code",
   "execution_count": 14,
   "id": "0b6116db",
   "metadata": {},
   "outputs": [],
   "source": [
    "#import all data\n",
    "df1617 = pd.read_excel('question_01/occupation_sex_race/general_compare/2016-2017.xlsx',\n",
    "                     header=None)\n",
    "df1718 = pd.read_excel('question_01/occupation_sex_race/general_compare/2017-2018.xlsx',\n",
    "                     header=None)\n",
    "df1819 = pd.read_excel('question_01/occupation_sex_race/general_compare/2018-2019.xlsx',\n",
    "                     header=None)\n",
    "df1920 = pd.read_excel('question_01/occupation_sex_race/general_compare/2019-2020.xlsx',\n",
    "                     header=None)"
   ]
  },
  {
   "cell_type": "code",
   "execution_count": 15,
   "id": "fa54ec16",
   "metadata": {},
   "outputs": [],
   "source": [
    "#import data for the Total\n",
    "df_total = pd.DataFrame()\n",
    "df_total['Occupation'] = df1617.iloc[6:23,0]\n",
    "\n",
    "df_total['Total_2016'] = df1617.iloc[6:23,1]\n",
    "df_total['Total_2017'] = df1617.iloc[6:23,2]\n",
    "df_total['Total_2018'] = df1718.iloc[6:23,2]\n",
    "df_total['Total_2019'] = df1819.iloc[6:23,2]\n",
    "df_total['Total_2020'] = df1920.iloc[6:23,2]\n",
    "\n",
    "df_total['Men_2016'] = df1617.iloc[6:23,3]\n",
    "df_total['Men_2017'] = df1617.iloc[6:23,4]\n",
    "df_total['Men_2018'] = df1718.iloc[6:23,4]\n",
    "df_total['Men_2019'] = df1819.iloc[6:23,4]\n",
    "df_total['Men_2020'] = df1920.iloc[6:23,4]\n",
    "\n",
    "df_total['Women_2016'] = df1617.iloc[6:23,5]\n",
    "df_total['Women_2017'] = df1617.iloc[6:23,6]\n",
    "df_total['Women_2018'] = df1718.iloc[6:23,6]\n",
    "df_total['Women_2019'] = df1819.iloc[6:23,6]\n",
    "df_total['Women_2020'] = df1920.iloc[6:23,6]"
   ]
  },
  {
   "cell_type": "code",
   "execution_count": 16,
   "id": "1bc0ad9b",
   "metadata": {},
   "outputs": [],
   "source": [
    "df_total.loc[10:11,'Group']='Management, professional, and related occupations'\n",
    "df_total.loc[12,'Group'] = 'Service occupations'\n",
    "df_total.loc[14:15,'Group'] = 'Sales and office occupations'\n",
    "df_total.loc[17:19,'Group'] = 'Natural resources, construction, and maintenance occupations'\n",
    "df_total.loc[21:22,'Group'] = 'Production, transportation, and material moving occupations'"
   ]
  },
  {
   "cell_type": "code",
   "execution_count": 17,
   "id": "8fd4a6ef",
   "metadata": {},
   "outputs": [],
   "source": [
    "#Since we only care about the smallest branches thus we would drop thus having nan values\n",
    "#which contains the branch's name and non-percent values and the summary lines\n",
    "df_total = df_total.dropna()"
   ]
  },
  {
   "cell_type": "code",
   "execution_count": 18,
   "id": "4e4410b5",
   "metadata": {},
   "outputs": [],
   "source": [
    "df_total.to_excel('clean_data/question_01/occupation_sex_race/percentage_view/total.xlsx',\n",
    "                 index=False)"
   ]
  },
  {
   "cell_type": "code",
   "execution_count": 19,
   "id": "bbf1e6c6",
   "metadata": {},
   "outputs": [],
   "source": [
    "#Import data for the White\n",
    "df_white = pd.DataFrame()\n",
    "df_white['Occupation'] = df1617.iloc[24:41,0]\n",
    "\n",
    "df_white['Total_2016'] = df1617.iloc[24:41,1]\n",
    "df_white['Total_2017'] = df1617.iloc[24:41,2]\n",
    "df_white['Total_2018'] = df1718.iloc[24:41,2]\n",
    "df_white['Total_2019'] = df1819.iloc[24:41,2]\n",
    "df_white['Total_2020'] = df1920.iloc[24:41,2]\n",
    "\n",
    "df_white['Men_2016'] = df1617.iloc[24:41,3]\n",
    "df_white['Men_2017'] = df1617.iloc[24:41,4]\n",
    "df_white['Men_2018'] = df1718.iloc[24:41,4]\n",
    "df_white['Men_2019'] = df1819.iloc[24:41,4]\n",
    "df_white['Men_2020'] = df1920.iloc[24:41,4]\n",
    "\n",
    "df_white['Women_2016'] = df1617.iloc[24:41,5]\n",
    "df_white['Women_2017'] = df1617.iloc[24:41,6]\n",
    "df_white['Women_2018'] = df1718.iloc[24:41,6]\n",
    "df_white['Women_2019'] = df1819.iloc[24:41,6]\n",
    "df_white['Women_2020'] = df1920.iloc[24:41,6]"
   ]
  },
  {
   "cell_type": "code",
   "execution_count": 20,
   "id": "d9c1f003",
   "metadata": {},
   "outputs": [],
   "source": [
    "df_white.loc[28:29,'Group']='Management, professional, and related occupations'\n",
    "df_white.loc[30,'Group'] = 'Service occupations'\n",
    "df_white.loc[32:33,'Group'] = 'Sales and office occupations'\n",
    "df_white.loc[35:37,'Group'] = 'Natural resources, construction, and maintenance occupations'\n",
    "df_white.loc[39:40,'Group'] = 'Production, transportation, and material moving occupations'"
   ]
  },
  {
   "cell_type": "code",
   "execution_count": 21,
   "id": "26531efd",
   "metadata": {},
   "outputs": [],
   "source": [
    "df_white = df_white.dropna()"
   ]
  },
  {
   "cell_type": "code",
   "execution_count": 22,
   "id": "4a2fef9d",
   "metadata": {},
   "outputs": [],
   "source": [
    "df_white.to_excel('clean_data/question_01/occupation_sex_race/percentage_view/white.xlsx',index=False)"
   ]
  },
  {
   "cell_type": "code",
   "execution_count": 23,
   "id": "c17d7b1d",
   "metadata": {},
   "outputs": [],
   "source": [
    "#Import data for the Black\n",
    "df_black = pd.DataFrame()\n",
    "df_black['Occupation'] = df1617.iloc[42:59,0]\n",
    "\n",
    "df_black['Total_2016'] = df1617.iloc[42:59,1]\n",
    "df_black['Total_2017'] = df1617.iloc[42:59,2]\n",
    "df_black['Total_2018'] = df1718.iloc[42:59,2]\n",
    "df_black['Total_2019'] = df1819.iloc[42:59,2]\n",
    "df_black['Total_2020'] = df1920.iloc[42:59,2]\n",
    "\n",
    "df_black['Men_2016'] = df1617.iloc[42:59,3]\n",
    "df_black['Men_2017'] = df1617.iloc[42:59,4]\n",
    "df_black['Men_2018'] = df1718.iloc[42:59,4]\n",
    "df_black['Men_2019'] = df1819.iloc[42:59,4]\n",
    "df_black['Men_2020'] = df1920.iloc[42:59,4]\n",
    "\n",
    "df_black['Women_2016'] = df1617.iloc[42:59,5]\n",
    "df_black['Women_2017'] = df1617.iloc[42:59,6]\n",
    "df_black['Women_2018'] = df1718.iloc[42:59,6]\n",
    "df_black['Women_2019'] = df1819.iloc[42:59,6]\n",
    "df_black['Women_2020'] = df1920.iloc[42:59,6]"
   ]
  },
  {
   "cell_type": "code",
   "execution_count": 24,
   "id": "a52b52df",
   "metadata": {},
   "outputs": [],
   "source": [
    "df_black.loc[46:47,'Group']='Management, professional, and related occupations'\n",
    "df_black.loc[48,'Group'] = 'Service occupations'\n",
    "df_black.loc[50:51,'Group'] = 'Sales and office occupations'\n",
    "df_black.loc[53:55,'Group'] = 'Natural resources, construction, and maintenance occupations'\n",
    "df_black.loc[57:58,'Group'] = 'Production, transportation, and material moving occupations'"
   ]
  },
  {
   "cell_type": "code",
   "execution_count": 25,
   "id": "6e578f30",
   "metadata": {},
   "outputs": [],
   "source": [
    "df_black = df_black.dropna()"
   ]
  },
  {
   "cell_type": "code",
   "execution_count": 26,
   "id": "0ef0e0c8",
   "metadata": {},
   "outputs": [],
   "source": [
    "df_black.to_excel('clean_data/question_01/occupation_sex_race/percentage_view/black.xlsx',index=False)"
   ]
  },
  {
   "cell_type": "code",
   "execution_count": 27,
   "id": "1b256da8",
   "metadata": {},
   "outputs": [],
   "source": [
    "#Import data for the Asian\n",
    "df_asian = pd.DataFrame()\n",
    "df_asian['Occupation'] = df1617.iloc[60:77,0]\n",
    "\n",
    "df_asian['Total_2016'] = df1617.iloc[60:77,1]\n",
    "df_asian['Total_2017'] = df1617.iloc[60:77,2]\n",
    "df_asian['Total_2018'] = df1718.iloc[60:77,2]\n",
    "df_asian['Total_2019'] = df1819.iloc[60:77,2]\n",
    "df_asian['Total_2020'] = df1920.iloc[60:77,2]\n",
    "\n",
    "df_asian['Men_2016'] = df1617.iloc[60:77,3]\n",
    "df_asian['Men_2017'] = df1617.iloc[60:77,4]\n",
    "df_asian['Men_2018'] = df1718.iloc[60:77,4]\n",
    "df_asian['Men_2019'] = df1819.iloc[60:77,4]\n",
    "df_asian['Men_2020'] = df1920.iloc[60:77,4]\n",
    "\n",
    "df_asian['Women_2016'] = df1617.iloc[60:77,5]\n",
    "df_asian['Women_2017'] = df1617.iloc[60:77,6]\n",
    "df_asian['Women_2018'] = df1718.iloc[60:77,6]\n",
    "df_asian['Women_2019'] = df1819.iloc[60:77,6]\n",
    "df_asian['Women_2020'] = df1920.iloc[60:77,6]"
   ]
  },
  {
   "cell_type": "code",
   "execution_count": 28,
   "id": "5e2d379a",
   "metadata": {},
   "outputs": [],
   "source": [
    "df_asian.loc[64:65,'Group']='Management, professional, and related occupations'\n",
    "df_asian.loc[66,'Group'] = 'Service occupations'\n",
    "df_asian.loc[68:69,'Group'] = 'Sales and office occupations'\n",
    "df_asian.loc[71:73,'Group'] = 'Natural resources, construction, and maintenance occupations'\n",
    "df_asian.loc[75:76,'Group'] = 'Production, transportation, and material moving occupations'"
   ]
  },
  {
   "cell_type": "code",
   "execution_count": 29,
   "id": "b3095f94",
   "metadata": {},
   "outputs": [],
   "source": [
    "df_asain = df_asian.dropna()"
   ]
  },
  {
   "cell_type": "code",
   "execution_count": 30,
   "id": "0f43c854",
   "metadata": {},
   "outputs": [],
   "source": [
    "df_asian.to_excel('clean_data/question_01/occupation_sex_race/percentage_view/asian.xlsx',index=False)"
   ]
  },
  {
   "cell_type": "code",
   "execution_count": 31,
   "id": "c8f6809b",
   "metadata": {},
   "outputs": [],
   "source": [
    "#Import data for the Hispanic or Latino\n",
    "df_his = pd.DataFrame()\n",
    "df_his['Occupation'] = df1617.iloc[78:95,0]\n",
    "\n",
    "df_his['Total_2016'] = df1617.iloc[78:95,1]\n",
    "df_his['Total_2017'] = df1617.iloc[78:95,2]\n",
    "df_his['Total_2018'] = df1718.iloc[78:95,2]\n",
    "df_his['Total_2019'] = df1819.iloc[78:95,2]\n",
    "df_his['Total_2020'] = df1920.iloc[78:95,2]\n",
    "\n",
    "df_his['Men_2016'] = df1617.iloc[78:95,3]\n",
    "df_his['Men_2017'] = df1617.iloc[78:95,4]\n",
    "df_his['Men_2018'] = df1718.iloc[78:95,4]\n",
    "df_his['Men_2019'] = df1819.iloc[78:95,4]\n",
    "df_his['Men_2020'] = df1920.iloc[78:95,4]\n",
    "\n",
    "df_his['Women_2016'] = df1617.iloc[78:95,5]\n",
    "df_his['Women_2017'] = df1617.iloc[78:95,6]\n",
    "df_his['Women_2018'] = df1718.iloc[78:95,6]\n",
    "df_his['Women_2019'] = df1819.iloc[78:95,6]\n",
    "df_his['Women_2020'] = df1920.iloc[78:95,6]"
   ]
  },
  {
   "cell_type": "code",
   "execution_count": 32,
   "id": "09cf1b1f",
   "metadata": {},
   "outputs": [],
   "source": [
    "df_his.loc[82:83,'Group']='Management, professional, and related occupations'\n",
    "df_his.loc[84,'Group'] = 'Service occupations'\n",
    "df_his.loc[86:87,'Group'] = 'Sales and office occupations'\n",
    "df_his.loc[89:91,'Group'] = 'Natural resources, construction, and maintenance occupations'\n",
    "df_his.loc[93:94,'Group'] = 'Production, transportation, and material moving occupations'"
   ]
  },
  {
   "cell_type": "code",
   "execution_count": 33,
   "id": "219d396e",
   "metadata": {},
   "outputs": [],
   "source": [
    "df_his = df_his.dropna()"
   ]
  },
  {
   "cell_type": "code",
   "execution_count": 34,
   "id": "bbc4b4ed",
   "metadata": {},
   "outputs": [],
   "source": [
    "df_his.to_excel('clean_data/question_01/occupation_sex_race/percentage_view/his_or_lati.xlsx',index=False)"
   ]
  },
  {
   "cell_type": "markdown",
   "id": "1302f4b2",
   "metadata": {},
   "source": [
    "## Sex Race Age"
   ]
  },
  {
   "cell_type": "code",
   "execution_count": 35,
   "id": "53315975",
   "metadata": {},
   "outputs": [],
   "source": [
    "def sex_race_age(yy):\n",
    "    df = pd.read_excel('question_01/sex_race_age/'+str(yy)+'.xlsx',\n",
    "                  header=None)\n",
    "    #All of these files have the same number of columns\n",
    "    headers=['Age, sex, and race','Civilian noninstitutional population','Civilian labor force_Total',\n",
    "        'Civilian labor force_Percent of population','Civilian labor force_Employed_Total',\n",
    "        'Civilian labor force_Employed_Percent of population','Civilian labor force_Unemployed_Number',\n",
    "        'Civilian labor force_Unemployed_Percent of labor','Not in labor force']\n",
    "    df.columns=headers\n",
    "    #The Total Group\n",
    "    for i in range(10,31):\n",
    "        df.loc[i,'Group']= 'Total'\n",
    "        df.loc[i,'Sex']= 'Union'\n",
    "    for i in range(33,54):\n",
    "        df.loc[i,'Group']= 'Total'\n",
    "        df.loc[i,'Sex']='Men'\n",
    "    for i in range(56,77):\n",
    "        df.loc[i,'Group']= 'Total'\n",
    "        df.loc[i,'Sex']='Women'\n",
    "    \n",
    "    #The White Group\n",
    "    for i in range(80,101):\n",
    "        df.loc[i,'Sex']='Union'\n",
    "        df.loc[i,'Group']='White'\n",
    "    for i in range(104-1,124):\n",
    "        df.loc[i,'Sex']='Men'\n",
    "        df.loc[i,'Group']='White'\n",
    "    for i in range(127-1,147):\n",
    "        df.loc[i,'Sex']='Women'\n",
    "        df.loc[i,'Group']='White'\n",
    "    \n",
    "    #The Black or Africa American Group\n",
    "    for i in range(151-1,171):\n",
    "        df.loc[i,'Group']='Black or Africa American'\n",
    "        df.loc[i,'Sex']='Union'\n",
    "    for i in range(174-1,194):\n",
    "        df.loc[i,'Group']='Black or Africa American'\n",
    "        df.loc[i,'Sex']='Men'\n",
    "    for i in range(197-1,217):\n",
    "        df.loc[i,'Group']='Black or Africa American'\n",
    "        df.loc[i,'Sex']='Women'\n",
    "    \n",
    "    #The Asian Group\n",
    "    for i in range(221-1,241):\n",
    "        df.loc[i,'Group']='Asian'\n",
    "        df.loc[i,'Sex']='Union'\n",
    "    for i in range(244-1,264):\n",
    "        df.loc[i,'Group']='Asian'\n",
    "        df.loc[i,'Sex']='Men'\n",
    "    for i in range(266-1,287):\n",
    "        df.loc[i,'Group']='Asian'\n",
    "        df.loc[i,'Sex']=\"Women\"\n",
    "    \n",
    "    #Since looking thourgh the data, if the value is missing it would '-' instead of NaN\n",
    "    #Thus the rows containing NaN should be disregared\n",
    "    df=df.dropna()\n",
    "    \n",
    "    #For the actual missing values, move them to the missing folder for missing pattern analysis\n",
    "    df.to_excel('missing_data/question_01/sex_race_age/'+str(yy)+'.xlsx',index=None)\n",
    "    \n",
    "    #Deal with the files having the '-' which is not calculated in the original data set\n",
    "    rows=[]\n",
    "    cols=[]\n",
    "    for i in range(0,df.shape[0]):\n",
    "        for m in range(0,df.iloc[i].size):\n",
    "            if df.iloc[i,m]=='–':\n",
    "                cols.append(m)\n",
    "                rows.append(i)\n",
    "    #Take a look at the dataset, the only columns havig the '-' is in the percent of unemployed which could be \n",
    "    #calculated by number of unemployed divided by total civilian labor force\n",
    "    #if it has '-' then calculating the percent and fill the value \n",
    "    if len(rows)!=0:\n",
    "        for i in range(0,len(rows)):\n",
    "            df.iloc[rows[i],cols[i]]=round((df.iloc[rows[i],cols[i]-1]/df.iloc[rows[i],2])*100,1)\n",
    "    \n",
    "    #checking is there is no missing values. if there is no missing value then output the dataset\n",
    "    if df.isna().sum().sum()==0:\n",
    "        df.to_excel('clean_data/question_01/sex_race_age/'+str(yy)+'.xlsx',index=False)"
   ]
  },
  {
   "cell_type": "code",
   "execution_count": 36,
   "id": "1d7e6cfd",
   "metadata": {},
   "outputs": [],
   "source": [
    "for i in year:\n",
    "    sex_race_age(i)"
   ]
  },
  {
   "cell_type": "markdown",
   "id": "5b6a5ccf",
   "metadata": {},
   "source": [
    "# Question 02"
   ]
  },
  {
   "cell_type": "markdown",
   "id": "6f4a0e46",
   "metadata": {},
   "source": [
    "## overall_unemployement_sex_occupation_total"
   ]
  },
  {
   "cell_type": "code",
   "execution_count": 37,
   "id": "a65e8dd6",
   "metadata": {},
   "outputs": [],
   "source": [
    "df1617 = pd.read_excel('question_02/Unemployed_sex_occupation/2016-2017.xlsx',\n",
    "                      header=None)\n",
    "df1718 = pd.read_excel('question_02/Unemployed_sex_occupation/2017-2018.xlsx',\n",
    "                      header=None)\n",
    "df1819 = pd.read_excel('question_02/Unemployed_sex_occupation/2018-2019.xlsx',\n",
    "                      header=None)\n",
    "df1920 = pd.read_excel('question_02/Unemployed_sex_occupation/2019-2020.xlsx',\n",
    "                      header=None)"
   ]
  },
  {
   "cell_type": "code",
   "execution_count": 38,
   "id": "72721782",
   "metadata": {},
   "outputs": [],
   "source": [
    "#Since these files all have 2 parts, first is unemployed number and the second is unemloyment rate\n",
    "#Thus divide these into 2 parts and combine them and output the two new files\n",
    "#part 1\n",
    "df1 = pd.DataFrame()\n",
    "df1['Occupation']=df1617.iloc[:,0]\n",
    "df1['2016'] = df1617.iloc[:,1]\n",
    "df1['2017'] = df1617.iloc[:,2]\n",
    "df1['2018'] = df1718.iloc[:,2]\n",
    "df1['2019'] = df1819.iloc[:,2]\n",
    "df1['2020'] = df1920.iloc[:,2]\n",
    "\n",
    "#part 2\n",
    "df2 = pd.DataFrame()\n",
    "df2['Occupation']=df1617.iloc[:,0]\n",
    "df2['2016_Total'] = df1617.iloc[:,3]\n",
    "df2['2017_Total'] = df1617.iloc[:,4]\n",
    "df2['2018_Total'] = df1718.iloc[:,4]\n",
    "df2['2019_Total'] = df1819.iloc[:,4]\n",
    "df2['2020_Total'] = df1920.iloc[:,4]\n",
    "\n",
    "df2['2016_Men'] = df1617.iloc[:,5]\n",
    "df2['2017_Men'] = df1617.iloc[:,6]\n",
    "df2['2018_Men'] = df1718.iloc[:,6]\n",
    "df2['2019_Men'] = df1819.iloc[:,6]\n",
    "df2['2020_Men'] = df1920.iloc[:,6]\n",
    "\n",
    "df2['2016_Women'] = df1617.iloc[:,7]\n",
    "df2['2017_Women'] = df1617.iloc[:,8]\n",
    "df2['2018_Women'] = df1718.iloc[:,8]\n",
    "df2['2019_Women'] = df1819.iloc[:,8]\n",
    "df2['2020_Women'] = df1920.iloc[:,8]"
   ]
  },
  {
   "cell_type": "code",
   "execution_count": 39,
   "id": "d88d765e",
   "metadata": {},
   "outputs": [],
   "source": [
    "#Assign the groups info to each row\n",
    "#Since in the Occupation columns, some occupation has been divided in to several other jobs, the branchs\n",
    "#Thus, only care about the small parts would be enough\n",
    "for i in range(11,13):\n",
    "    df1.loc[i,'Group']=df1.iloc[10,0]\n",
    "    df2.loc[i,'Group']=df2.iloc[10,0]\n",
    "for i in range(14,22):\n",
    "    df1.loc[i,'Group']=df1.iloc[13,0]\n",
    "    df2.loc[i,'Group']=df2.iloc[13,0]\n",
    "for i in range(24,29):\n",
    "    df1.loc[i,'Group']=df1.iloc[23,0]\n",
    "    df2.loc[i,'Group']=df2.iloc[23,0]\n",
    "for i in range(31,33):\n",
    "    df1.loc[i,'Group']=df1.iloc[30,0]\n",
    "    df2.loc[i,'Group']=df2.iloc[30,0]\n",
    "for i in range(35,38):\n",
    "    df1.loc[i,'Group']=df1.iloc[34,0]\n",
    "    df2.loc[i,'Group']=df2.iloc[34,0]\n",
    "for i in range(40,42):\n",
    "    df1.loc[i,'Group']=df1.iloc[39,0]\n",
    "    df2.loc[i,'Group']=df2.iloc[39,0]\n",
    "for i in range(44,47):\n",
    "    df1.loc[i,'Group']=df1.iloc[43,0]\n",
    "    df2.loc[i,'Group']=df2.iloc[43,0]"
   ]
  },
  {
   "cell_type": "code",
   "execution_count": 40,
   "id": "092f9539",
   "metadata": {},
   "outputs": [],
   "source": [
    "df1=df1.dropna()"
   ]
  },
  {
   "cell_type": "code",
   "execution_count": 41,
   "id": "20ee506a",
   "metadata": {},
   "outputs": [
    {
     "data": {
      "text/plain": [
       "0"
      ]
     },
     "execution_count": 41,
     "metadata": {},
     "output_type": "execute_result"
    }
   ],
   "source": [
    "df1.isna().sum().sum()\n",
    "#Ready to output"
   ]
  },
  {
   "cell_type": "code",
   "execution_count": 42,
   "id": "4a9c57ad",
   "metadata": {},
   "outputs": [],
   "source": [
    "df2 = df2.dropna()"
   ]
  },
  {
   "cell_type": "code",
   "execution_count": 43,
   "id": "9346b91c",
   "metadata": {},
   "outputs": [],
   "source": [
    "#Move the actual missing value to the missing_data folder for further analysis\n",
    "df2.to_excel('missing_data/question_02/Unemployemnt_rate(sex_occupation).xlsx',index=None)"
   ]
  },
  {
   "cell_type": "code",
   "execution_count": 44,
   "id": "da74175c",
   "metadata": {},
   "outputs": [],
   "source": [
    "#Since we only deal with the occupation and sex, we do not care about age\n",
    "#Then drop the rows having ages would be appropriate\n",
    "df1 = df1.iloc[0:-3]\n",
    "df2 = df2.iloc[0:-3]"
   ]
  },
  {
   "cell_type": "code",
   "execution_count": 45,
   "id": "10cd712f",
   "metadata": {},
   "outputs": [],
   "source": [
    "#save the files\n",
    "df1.to_excel('clean_data/question_02/Total_unemployed_number.xlsx',\n",
    "          index=False)\n",
    "df2.to_excel('clean_data/question_02/Unemployment_rate(sex_occupation).xlsx',\n",
    "            index=False)"
   ]
  },
  {
   "cell_type": "markdown",
   "id": "41b9a965",
   "metadata": {},
   "source": [
    "# Question 03"
   ]
  },
  {
   "cell_type": "code",
   "execution_count": 46,
   "id": "8b9fe655",
   "metadata": {},
   "outputs": [],
   "source": [
    "df16 = pd.read_excel('question_03/certification_and_license/2016.xlsx',\n",
    "                    header=None)\n",
    "df17 = pd.read_excel('question_03/certification_and_license/2017.xlsx',\n",
    "                    header=None)\n",
    "df18 = pd.read_excel('question_03/certification_and_license/2018.xlsx',\n",
    "                    header=None)\n",
    "df19 = pd.read_excel('question_03/certification_and_license/2019.xlsx',\n",
    "                    header=None)\n",
    "df20 = pd.read_excel('question_03/certification_and_license/2020.xlsx',\n",
    "                    header=None)"
   ]
  },
  {
   "cell_type": "code",
   "execution_count": 47,
   "id": "65d29174",
   "metadata": {},
   "outputs": [],
   "source": [
    "#Looking through the data, in each file, the data could be divided in to 2 parts\n",
    "#The above part is for industry\n",
    "#The below part is for the worker's kind\n",
    "df31 = pd.DataFrame()\n",
    "df32 = pd.DataFrame()"
   ]
  },
  {
   "cell_type": "code",
   "execution_count": 48,
   "id": "eb5cd645",
   "metadata": {},
   "outputs": [],
   "source": [
    "#construct the first part\n",
    "df31['Industry'] = df16.iloc[10:25,0]\n",
    "\n",
    "df31['2016_Total_Employed']=df16.iloc[10:25,1]\n",
    "df31['2017_Total_Employed']=df17.iloc[10:25,1]\n",
    "df31['2018_Total_Employed']=df18.iloc[10:25,1]\n",
    "df31['2019_Total_Employed']=df19.iloc[10:25,1]\n",
    "df31['2020_Total_Employed']=df20.iloc[10:25,1]\n",
    "\n",
    "df31['2016_with_a_certificate/license_total_percent']=df16.iloc[10:25,3]\n",
    "df31['2017_with_a_certificate/license_total_percent']=df17.iloc[10:25,3]\n",
    "df31['2018_with_a_certificate/license_total_percent']=df18.iloc[10:25,3]\n",
    "df31['2019_with_a_certificate/license_total_percent']=df19.iloc[10:25,3]\n",
    "df31['2020_with_a_certificate/license_total_percent']=df20.iloc[10:25,3]\n",
    "\n",
    "df31['2016_with_a_certificate_no_license_percent']=df16.iloc[10:25,4]\n",
    "df31['2017_with_a_certificate_no_license_percent']=df17.iloc[10:25,4]\n",
    "df31['2018_with_a_certificate_no_license_percent']=df18.iloc[10:25,4]\n",
    "df31['2019_with_a_certificate_no_license_percent']=df19.iloc[10:25,4]\n",
    "df31['2020_with_a_certificate_no_license_percent']=df20.iloc[10:25,4]\n",
    "\n",
    "df31['2016_with_a_license']=df16.iloc[10:25,5]\n",
    "df31['2017_with_a_license']=df17.iloc[10:25,5]\n",
    "df31['2018_with_a_license']=df18.iloc[10:25,5]\n",
    "df31['2019_with_a_license']=df19.iloc[10:25,5]\n",
    "df31['2020_with_a_license']=df20.iloc[10:25,5]\n",
    "\n",
    "df31['2016_without_a_license_percent']=df16.iloc[10:25,6]\n",
    "df31['2017_without_a_license_percent']=df17.iloc[10:25,6]\n",
    "df31['2018_without_a_license_percent']=df18.iloc[10:25,6]\n",
    "df31['2019_without_a_license_percent']=df19.iloc[10:25,6]\n",
    "df31['2020_without_a_license_percent']=df20.iloc[10:25,6]"
   ]
  },
  {
   "cell_type": "code",
   "execution_count": 49,
   "id": "3b3be201",
   "metadata": {},
   "outputs": [],
   "source": [
    "df31.loc[10,'Group']=df31.iloc[0,0]\n",
    "for i in range(12,25):\n",
    "    df31.loc[i,'Group']=df31.iloc[1,0]"
   ]
  },
  {
   "cell_type": "code",
   "execution_count": 50,
   "id": "ca94494f",
   "metadata": {},
   "outputs": [],
   "source": [
    "df31=df31.dropna()"
   ]
  },
  {
   "cell_type": "code",
   "execution_count": 51,
   "id": "44007ad0",
   "metadata": {},
   "outputs": [],
   "source": [
    "df31.to_excel('clean_data/question_03/industry_license_or_certificate.xlsx',\n",
    "             index=False)"
   ]
  },
  {
   "cell_type": "code",
   "execution_count": 52,
   "id": "9b7e9e40",
   "metadata": {},
   "outputs": [],
   "source": [
    "#Part 2\n",
    "df32['Workers_category']=df16.iloc[28:34,0]\n",
    "\n",
    "df32['2016_Total_Employed']=df16.iloc[28:34,1]\n",
    "df32['2017_Total_Employed']=df17.iloc[28:34,1]\n",
    "df32['2018_Total_Employed']=df18.iloc[28:34,1]\n",
    "df32['2019_Total_Employed']=df19.iloc[28:34,1]\n",
    "df32['2020_Total_Employed']=df20.iloc[28:34,1]\n",
    "\n",
    "df32['2016_with_a_certificate/license_total_percent']=df16.iloc[28:34,3]\n",
    "df32['2017_with_a_certificate/license_total_percent']=df17.iloc[28:34,3]\n",
    "df32['2018_with_a_certificate/license_total_percent']=df18.iloc[28:34,3]\n",
    "df32['2019_with_a_certificate/license_total_percent']=df19.iloc[28:34,3]\n",
    "df32['2020_with_a_certificate/license_total_percent']=df20.iloc[28:34,3]\n",
    "\n",
    "df32['2016_with_a_certificate_no_license_percent']=df16.iloc[28:34,4]\n",
    "df32['2017_with_a_certificate_no_license_percent']=df17.iloc[28:34,4]\n",
    "df32['2018_with_a_certificate_no_license_percent']=df18.iloc[28:34,4]\n",
    "df32['2019_with_a_certificate_no_license_percent']=df19.iloc[28:34,4]\n",
    "df32['2020_with_a_certificate_no_license_percent']=df20.iloc[28:34,4]\n",
    "\n",
    "df32['2016_with_a_license']=df16.iloc[28:34,5]\n",
    "df32['2017_with_a_license']=df17.iloc[28:34,5]\n",
    "df32['2018_with_a_license']=df18.iloc[28:34,5]\n",
    "df32['2019_with_a_license']=df19.iloc[28:34,5]\n",
    "df32['2020_with_a_license']=df20.iloc[28:34,5]\n",
    "\n",
    "df32['2016_without_a_license_percent']=df16.iloc[28:34,6]\n",
    "df32['2017_without_a_license_percent']=df17.iloc[28:34,6]\n",
    "df32['2018_without_a_license_percent']=df18.iloc[28:34,6]\n",
    "df32['2019_without_a_license_percent']=df19.iloc[28:34,6]\n",
    "df32['2020_without_a_license_percent']=df20.iloc[28:34,6]"
   ]
  },
  {
   "cell_type": "code",
   "execution_count": 53,
   "id": "833105ae",
   "metadata": {},
   "outputs": [],
   "source": [
    "df32.loc[28,'Group']=df16.iloc[28,0]\n",
    "for i in range(30,33):\n",
    "    df32.loc[i,'Group']=df16.iloc[29,0]\n",
    "df32.loc[33,'Group']=df16.iloc[33,0]"
   ]
  },
  {
   "cell_type": "code",
   "execution_count": 54,
   "id": "233eeded",
   "metadata": {},
   "outputs": [],
   "source": [
    "df32 = df32.dropna()"
   ]
  },
  {
   "cell_type": "code",
   "execution_count": 55,
   "id": "aefa2788",
   "metadata": {},
   "outputs": [],
   "source": [
    "df32.to_excel('clean_data/question_03/wokers_category_license_or_certificate.xlsx',\n",
    "             index=False)"
   ]
  },
  {
   "cell_type": "code",
   "execution_count": null,
   "id": "c3015d75",
   "metadata": {},
   "outputs": [],
   "source": []
  }
 ],
 "metadata": {
  "kernelspec": {
   "display_name": "Python 3",
   "language": "python",
   "name": "python3"
  },
  "language_info": {
   "codemirror_mode": {
    "name": "ipython",
    "version": 3
   },
   "file_extension": ".py",
   "mimetype": "text/x-python",
   "name": "python",
   "nbconvert_exporter": "python",
   "pygments_lexer": "ipython3",
   "version": "3.8.8"
  }
 },
 "nbformat": 4,
 "nbformat_minor": 5
}
